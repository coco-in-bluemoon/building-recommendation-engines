{
 "cells": [
  {
   "cell_type": "code",
   "execution_count": 1,
   "metadata": {},
   "outputs": [],
   "source": [
    "from pyspark import SparkContext\n",
    "import pyspark"
   ]
  },
  {
   "cell_type": "markdown",
   "metadata": {},
   "source": [
    "#### Make Spark Context\n",
    "* 이유는 모르겠지만 SparkShell이 실행중이므로 동시에 두 개의 SparkContext를 열 수 없다.\n",
    "* getOrCreate() 생성된 Spark Context가 있으면 가져온다."
   ]
  },
  {
   "cell_type": "code",
   "execution_count": 2,
   "metadata": {},
   "outputs": [],
   "source": [
    "sc = SparkContext.getOrCreate()"
   ]
  },
  {
   "cell_type": "markdown",
   "metadata": {},
   "source": [
    "#### Load Data to RDD"
   ]
  },
  {
   "cell_type": "code",
   "execution_count": 3,
   "metadata": {},
   "outputs": [
    {
     "data": {
      "text/plain": [
       "'/home/dhsong/Workspaces/spark/chapter07/python-jupyter'"
      ]
     },
     "execution_count": 3,
     "metadata": {},
     "output_type": "execute_result"
    }
   ],
   "source": [
    "import os\n",
    "os.getcwd()"
   ]
  },
  {
   "cell_type": "code",
   "execution_count": 4,
   "metadata": {},
   "outputs": [
    {
     "data": {
      "text/plain": [
       "pyspark.rdd.RDD"
      ]
     },
     "execution_count": 4,
     "metadata": {},
     "output_type": "execute_result"
    }
   ],
   "source": [
    "data = sc.textFile('../../chapter07/data/ml-100k/u.data')\n",
    "type(data)"
   ]
  },
  {
   "cell_type": "markdown",
   "metadata": {},
   "source": [
    "#### Explore Dataset"
   ]
  },
  {
   "cell_type": "code",
   "execution_count": 5,
   "metadata": {},
   "outputs": [
    {
     "data": {
      "text/plain": [
       "100000"
      ]
     },
     "execution_count": 5,
     "metadata": {},
     "output_type": "execute_result"
    }
   ],
   "source": [
    "data.count() # Count number of rows"
   ]
  },
  {
   "cell_type": "code",
   "execution_count": 6,
   "metadata": {},
   "outputs": [
    {
     "data": {
      "text/plain": [
       "'196\\t242\\t3\\t881250949'"
      ]
     },
     "execution_count": 6,
     "metadata": {},
     "output_type": "execute_result"
    }
   ],
   "source": [
    "data.first() # Get first row"
   ]
  },
  {
   "cell_type": "code",
   "execution_count": 7,
   "metadata": {},
   "outputs": [
    {
     "data": {
      "text/plain": [
       "['196\\t242\\t3\\t881250949',\n",
       " '186\\t302\\t3\\t891717742',\n",
       " '22\\t377\\t1\\t878887116',\n",
       " '244\\t51\\t2\\t880606923',\n",
       " '166\\t346\\t1\\t886397596']"
      ]
     },
     "execution_count": 7,
     "metadata": {},
     "output_type": "execute_result"
    }
   ],
   "source": [
    "data.take(5) # Get first 5 rows"
   ]
  },
  {
   "cell_type": "markdown",
   "metadata": {},
   "source": [
    "#### Preprocessing Data"
   ]
  },
  {
   "cell_type": "code",
   "execution_count": 8,
   "metadata": {},
   "outputs": [],
   "source": [
    "from pyspark.mllib.recommendation import ALS, MatrixFactorizationModel, Rating"
   ]
  },
  {
   "cell_type": "code",
   "execution_count": 9,
   "metadata": {},
   "outputs": [],
   "source": [
    "ratings = data.map(lambda l: l.split('\\t')).map(lambda l: Rating(int(l[0]), int(l[1]), float(l[2])))            "
   ]
  },
  {
   "cell_type": "code",
   "execution_count": 10,
   "metadata": {},
   "outputs": [
    {
     "data": {
      "text/plain": [
       "pyspark.rdd.PipelinedRDD"
      ]
     },
     "execution_count": 10,
     "metadata": {},
     "output_type": "execute_result"
    }
   ],
   "source": [
    "type(ratings)"
   ]
  },
  {
   "cell_type": "code",
   "execution_count": 11,
   "metadata": {},
   "outputs": [
    {
     "data": {
      "text/plain": [
       "[Rating(user=196, product=242, rating=3.0),\n",
       " Rating(user=186, product=302, rating=3.0),\n",
       " Rating(user=22, product=377, rating=1.0),\n",
       " Rating(user=244, product=51, rating=2.0),\n",
       " Rating(user=166, product=346, rating=1.0)]"
      ]
     },
     "execution_count": 11,
     "metadata": {},
     "output_type": "execute_result"
    }
   ],
   "source": [
    "ratings.take(5)"
   ]
  },
  {
   "cell_type": "markdown",
   "metadata": {},
   "source": [
    "#### Explore Rating Data"
   ]
  },
  {
   "cell_type": "code",
   "execution_count": 12,
   "metadata": {},
   "outputs": [],
   "source": [
    "df = ratings.toDF()"
   ]
  },
  {
   "cell_type": "code",
   "execution_count": 13,
   "metadata": {},
   "outputs": [
    {
     "name": "stdout",
     "output_type": "stream",
     "text": [
      "+----+\n",
      "|user|\n",
      "+----+\n",
      "|  26|\n",
      "|  29|\n",
      "| 474|\n",
      "| 191|\n",
      "|  65|\n",
      "+----+\n",
      "only showing top 5 rows\n",
      "\n"
     ]
    }
   ],
   "source": [
    "df.select('user').distinct().show(5)"
   ]
  },
  {
   "cell_type": "code",
   "execution_count": 14,
   "metadata": {},
   "outputs": [
    {
     "data": {
      "text/plain": [
       "943"
      ]
     },
     "execution_count": 14,
     "metadata": {},
     "output_type": "execute_result"
    }
   ],
   "source": [
    "df.select('user').distinct().count()"
   ]
  },
  {
   "cell_type": "code",
   "execution_count": 15,
   "metadata": {
    "scrolled": true
   },
   "outputs": [
    {
     "name": "stdout",
     "output_type": "stream",
     "text": [
      "+-------+\n",
      "|product|\n",
      "+-------+\n",
      "|    474|\n",
      "|     29|\n",
      "|     26|\n",
      "|    964|\n",
      "|   1677|\n",
      "+-------+\n",
      "only showing top 5 rows\n",
      "\n"
     ]
    }
   ],
   "source": [
    "df.select('product').distinct().show(5)"
   ]
  },
  {
   "cell_type": "code",
   "execution_count": 16,
   "metadata": {},
   "outputs": [
    {
     "data": {
      "text/plain": [
       "1682"
      ]
     },
     "execution_count": 16,
     "metadata": {},
     "output_type": "execute_result"
    }
   ],
   "source": [
    "df.select('product').distinct().count()"
   ]
  },
  {
   "cell_type": "code",
   "execution_count": 17,
   "metadata": {},
   "outputs": [
    {
     "data": {
      "text/plain": [
       "[Row(user=26, count=107),\n",
       " Row(user=29, count=34),\n",
       " Row(user=474, count=327),\n",
       " Row(user=191, count=27),\n",
       " Row(user=65, count=80)]"
      ]
     },
     "execution_count": 17,
     "metadata": {},
     "output_type": "execute_result"
    }
   ],
   "source": [
    "df.groupBy('user').count().take(5)"
   ]
  },
  {
   "cell_type": "code",
   "execution_count": 18,
   "metadata": {},
   "outputs": [
    {
     "name": "stdout",
     "output_type": "stream",
     "text": [
      "+------+-----+\n",
      "|rating|count|\n",
      "+------+-----+\n",
      "|   1.0| 6110|\n",
      "|   4.0|34174|\n",
      "|   3.0|27145|\n",
      "|   2.0|11370|\n",
      "|   5.0|21201|\n",
      "+------+-----+\n",
      "\n"
     ]
    }
   ],
   "source": [
    "df.groupBy('rating').count().show()"
   ]
  },
  {
   "cell_type": "code",
   "execution_count": 19,
   "metadata": {},
   "outputs": [],
   "source": [
    "import matplotlib.pyplot as plt\n",
    "import numpy as np"
   ]
  },
  {
   "cell_type": "code",
   "execution_count": 20,
   "metadata": {},
   "outputs": [
    {
     "data": {
      "image/png": "[encoded data removed]",
      "text/plain": [
       "<Figure size 432x288 with 1 Axes>"
      ]
     },
     "metadata": {},
     "output_type": "display_data"
    }
   ],
   "source": [
    "n_groups = 5\n",
    "x = df.groupBy('rating').count().select('count')\n",
    "xx = x.rdd.flatMap(lambda x: x).collect()\n",
    "fig, ax = plt.subplots()\n",
    "index = np.arange(n_groups)\n",
    "bar_width = 1\n",
    "opacity = 0.4\n",
    "rects1 = plt.bar(\n",
    "    index, xx, bar_width,\n",
    "    alpha=opacity,\n",
    "    color='b',\n",
    "    label='ratings'\n",
    ")\n",
    "plt.xlabel('ratings')\n",
    "plt.ylabel('counts')\n",
    "plt.title('Distibution of ratings')\n",
    "plt.xticks(index, ('1.0', '2.0', '3.0', '4.0', '5.0'))\n",
    "plt.legend()\n",
    "plt.tight_layout()"
   ]
  },
  {
   "cell_type": "code",
   "execution_count": 21,
   "metadata": {},
   "outputs": [
    {
     "name": "stdout",
     "output_type": "stream",
     "text": [
      "+-------+------------------+\n",
      "|summary|             count|\n",
      "+-------+------------------+\n",
      "|  count|               943|\n",
      "|   mean|106.04453870625663|\n",
      "| stddev|100.93174276633496|\n",
      "|    min|                20|\n",
      "|    max|               737|\n",
      "+-------+------------------+\n",
      "\n"
     ]
    }
   ],
   "source": [
    "df.groupBy('user').count().select('count').describe().show()"
   ]
  },
  {
   "cell_type": "code",
   "execution_count": 22,
   "metadata": {},
   "outputs": [
    {
     "name": "stdout",
     "output_type": "stream",
     "text": [
      "+-----------+---+---+---+---+---+\n",
      "|user_rating|1.0|2.0|3.0|4.0|5.0|\n",
      "+-----------+---+---+---+---+---+\n",
      "|        645|  2|  2| 29| 55| 34|\n",
      "|        892|  2| 13| 40| 99| 72|\n",
      "|         69|  2|  3| 21| 16| 23|\n",
      "|        809|  2|  2|  6|  5|  5|\n",
      "|        629|  1|  8| 24| 35| 53|\n",
      "|        365|  5|  9| 12| 23|  9|\n",
      "|        138|  0|  1|  3| 28| 19|\n",
      "|        760|  4|  7| 11| 13|  6|\n",
      "|        101|  3| 19| 28| 16|  1|\n",
      "|        479| 24| 14| 48| 85| 31|\n",
      "|        347| 20| 25| 37| 55| 62|\n",
      "|        846| 10| 46| 89|154|106|\n",
      "|        909|  0|  0|  5|  7| 14|\n",
      "|        333|  1|  1|  5| 13|  6|\n",
      "|        628|  0|  1|  1|  3| 22|\n",
      "|        249|  1|  5| 31| 63| 61|\n",
      "|        893|  1|  5| 28| 18|  7|\n",
      "|        518|  4|  3| 28| 18| 20|\n",
      "|        468|  0|  9| 31| 55| 48|\n",
      "|        234| 14|103|205|126| 32|\n",
      "+-----------+---+---+---+---+---+\n",
      "only showing top 20 rows\n",
      "\n"
     ]
    }
   ],
   "source": [
    "df.stat.crosstab('user', 'rating').show()"
   ]
  },
  {
   "cell_type": "code",
   "execution_count": 23,
   "metadata": {},
   "outputs": [
    {
     "data": {
      "text/plain": [
       "[Row(user=26, avg(rating)=2.94392523364486),\n",
       " Row(user=29, avg(rating)=3.6470588235294117),\n",
       " Row(user=474, avg(rating)=4.08256880733945),\n",
       " Row(user=191, avg(rating)=3.6296296296296298),\n",
       " Row(user=65, avg(rating)=3.9375)]"
      ]
     },
     "execution_count": 23,
     "metadata": {},
     "output_type": "execute_result"
    }
   ],
   "source": [
    "df.groupBy('user').agg({'rating': 'mean'}).take(5)"
   ]
  },
  {
   "cell_type": "code",
   "execution_count": 24,
   "metadata": {},
   "outputs": [
    {
     "data": {
      "text/plain": [
       "[Row(product=474, avg(rating)=4.252577319587629),\n",
       " Row(product=29, avg(rating)=2.6666666666666665),\n",
       " Row(product=26, avg(rating)=3.452054794520548),\n",
       " Row(product=964, avg(rating)=3.3333333333333335),\n",
       " Row(product=1677, avg(rating)=3.0)]"
      ]
     },
     "execution_count": 24,
     "metadata": {},
     "output_type": "execute_result"
    }
   ],
   "source": [
    "df.groupBy('product').agg({'rating': 'mean'}).take(5)"
   ]
  },
  {
   "cell_type": "markdown",
   "metadata": {},
   "source": [
    "#### Recommender System"
   ]
  },
  {
   "cell_type": "markdown",
   "metadata": {},
   "source": [
    "**1. Modeling**"
   ]
  },
  {
   "cell_type": "code",
   "execution_count": 25,
   "metadata": {},
   "outputs": [],
   "source": [
    "(training, test) = ratings.randomSplit([0.8, 0.2])"
   ]
  },
  {
   "cell_type": "code",
   "execution_count": 26,
   "metadata": {},
   "outputs": [
    {
     "data": {
      "text/plain": [
       "80041"
      ]
     },
     "execution_count": 26,
     "metadata": {},
     "output_type": "execute_result"
    }
   ],
   "source": [
    "training.count()"
   ]
  },
  {
   "cell_type": "code",
   "execution_count": 27,
   "metadata": {},
   "outputs": [
    {
     "data": {
      "text/plain": [
       "19959"
      ]
     },
     "execution_count": 27,
     "metadata": {},
     "output_type": "execute_result"
    }
   ],
   "source": [
    "test.count()"
   ]
  },
  {
   "cell_type": "code",
   "execution_count": 28,
   "metadata": {},
   "outputs": [],
   "source": [
    "from pyspark.mllib.recommendation import ALS"
   ]
  },
  {
   "cell_type": "code",
   "execution_count": 29,
   "metadata": {},
   "outputs": [],
   "source": [
    "# Hyper parameters\n",
    "rank = 10\n",
    "num_iters = 10"
   ]
  },
  {
   "cell_type": "code",
   "execution_count": 30,
   "metadata": {},
   "outputs": [],
   "source": [
    "model = ALS.train(ratings, rank=rank, iterations=num_iters)"
   ]
  },
  {
   "cell_type": "code",
   "execution_count": 31,
   "metadata": {},
   "outputs": [
    {
     "data": {
      "text/plain": [
       "<pyspark.mllib.recommendation.MatrixFactorizationModel at 0x7f8166723550>"
      ]
     },
     "execution_count": 31,
     "metadata": {},
     "output_type": "execute_result"
    }
   ],
   "source": [
    "model"
   ]
  },
  {
   "cell_type": "markdown",
   "metadata": {},
   "source": [
    "**2. Prediction**"
   ]
  },
  {
   "cell_type": "code",
   "execution_count": 32,
   "metadata": {},
   "outputs": [
    {
     "data": {
      "text/plain": [
       "pyspark.rdd.PipelinedRDD"
      ]
     },
     "execution_count": 32,
     "metadata": {},
     "output_type": "execute_result"
    }
   ],
   "source": [
    "testdata = test.map(lambda p: (p[0], p[1]))\n",
    "type(testdata)"
   ]
  },
  {
   "cell_type": "code",
   "execution_count": 33,
   "metadata": {},
   "outputs": [
    {
     "data": {
      "text/plain": [
       "[Rating(user=196, product=242, rating=3.0),\n",
       " Rating(user=305, product=451, rating=3.0),\n",
       " Rating(user=291, product=1042, rating=4.0),\n",
       " Rating(user=234, product=1184, rating=2.0),\n",
       " Rating(user=119, product=392, rating=4.0)]"
      ]
     },
     "execution_count": 33,
     "metadata": {},
     "output_type": "execute_result"
    }
   ],
   "source": [
    "test.take(5)"
   ]
  },
  {
   "cell_type": "code",
   "execution_count": 34,
   "metadata": {},
   "outputs": [
    {
     "data": {
      "text/plain": [
       "[(196, 242), (305, 451), (291, 1042), (234, 1184), (119, 392)]"
      ]
     },
     "execution_count": 34,
     "metadata": {},
     "output_type": "execute_result"
    }
   ],
   "source": [
    "testdata.take(5)"
   ]
  },
  {
   "cell_type": "code",
   "execution_count": 35,
   "metadata": {},
   "outputs": [
    {
     "data": {
      "text/plain": [
       "3.1266923761458525"
      ]
     },
     "execution_count": 35,
     "metadata": {},
     "output_type": "execute_result"
    }
   ],
   "source": [
    "pred_index= model.predict(196, 242)\n",
    "pred_index"
   ]
  },
  {
   "cell_type": "code",
   "execution_count": 36,
   "metadata": {},
   "outputs": [
    {
     "data": {
      "text/plain": [
       "pyspark.rdd.PipelinedRDD"
      ]
     },
     "execution_count": 36,
     "metadata": {},
     "output_type": "execute_result"
    }
   ],
   "source": [
    "predictions = model.predictAll(testdata).map(lambda r: ((r[0], r[1]), r[2]))\n",
    "type(predictions)"
   ]
  },
  {
   "cell_type": "code",
   "execution_count": 37,
   "metadata": {},
   "outputs": [
    {
     "data": {
      "text/plain": [
       "[((195, 1084), 3.9594648492223037),\n",
       " ((470, 1084), 2.8005333459886366),\n",
       " ((655, 1084), 3.3542390795586763),\n",
       " ((50, 1084), 4.607142253420982),\n",
       " ((194, 1410), 2.105653093326694)]"
      ]
     },
     "execution_count": 37,
     "metadata": {},
     "output_type": "execute_result"
    }
   ],
   "source": [
    "predictions.take(5)"
   ]
  },
  {
   "cell_type": "markdown",
   "metadata": {},
   "source": [
    "**3. Recommendation**"
   ]
  },
  {
   "cell_type": "code",
   "execution_count": 38,
   "metadata": {},
   "outputs": [],
   "source": [
    "recommend_items_to_users = model.recommendProductsForUsers(10)"
   ]
  },
  {
   "cell_type": "code",
   "execution_count": 39,
   "metadata": {},
   "outputs": [
    {
     "data": {
      "text/plain": [
       "943"
      ]
     },
     "execution_count": 39,
     "metadata": {},
     "output_type": "execute_result"
    }
   ],
   "source": [
    "recommend_items_to_users.count()"
   ]
  },
  {
   "cell_type": "code",
   "execution_count": 40,
   "metadata": {},
   "outputs": [
    {
     "data": {
      "text/plain": [
       "[(451,\n",
       "  (Rating(user=451, product=1425, rating=7.508888595874732),\n",
       "   Rating(user=451, product=914, rating=7.474391553159032),\n",
       "   Rating(user=451, product=1114, rating=7.280869734860226),\n",
       "   Rating(user=451, product=1297, rating=7.248781214226375),\n",
       "   Rating(user=451, product=1181, rating=7.215071153889149),\n",
       "   Rating(user=451, product=834, rating=7.0180481085272195),\n",
       "   Rating(user=451, product=1019, rating=6.652814814761215),\n",
       "   Rating(user=451, product=374, rating=6.610301312327455),\n",
       "   Rating(user=451, product=1159, rating=6.588106620118025),\n",
       "   Rating(user=451, product=1439, rating=6.5785295351669015))),\n",
       " (454,\n",
       "  (Rating(user=454, product=1368, rating=5.042368723539213),\n",
       "   Rating(user=454, product=958, rating=4.6486378947041995),\n",
       "   Rating(user=454, product=1166, rating=4.63618083404309),\n",
       "   Rating(user=454, product=867, rating=4.596398451252947),\n",
       "   Rating(user=454, product=1446, rating=4.472412224890203),\n",
       "   Rating(user=454, product=1439, rating=4.422324637151808),\n",
       "   Rating(user=454, product=1262, rating=4.398186809994698),\n",
       "   Rating(user=454, product=1015, rating=4.382551725480662),\n",
       "   Rating(user=454, product=999, rating=4.272066139092699),\n",
       "   Rating(user=454, product=1643, rating=4.256278592997164)))]"
      ]
     },
     "execution_count": 40,
     "metadata": {},
     "output_type": "execute_result"
    }
   ],
   "source": [
    "recommend_items_to_users.take(2)"
   ]
  },
  {
   "cell_type": "markdown",
   "metadata": {},
   "source": [
    "**4. Evaluation**"
   ]
  },
  {
   "cell_type": "code",
   "execution_count": 45,
   "metadata": {},
   "outputs": [
    {
     "data": {
      "text/plain": [
       "pyspark.rdd.PipelinedRDD"
      ]
     },
     "execution_count": 45,
     "metadata": {},
     "output_type": "execute_result"
    }
   ],
   "source": [
    "rates_and_preds = ratings.map(lambda r: ((r[0], r[1]), r[2])).join(predictions)\n",
    "type(rates_and_preds)"
   ]
  },
  {
   "cell_type": "code",
   "execution_count": 48,
   "metadata": {},
   "outputs": [
    {
     "data": {
      "text/plain": [
       "[((196, 242), (3.0, 3.1266923761458525)),\n",
       " ((305, 451), (3.0, 2.8544119969436084)),\n",
       " ((234, 1184), (2.0, 2.148122840296711)),\n",
       " ((290, 88), (4.0, 3.9417592343163577)),\n",
       " ((276, 796), (1.0, 2.5090572638540243))]"
      ]
     },
     "execution_count": 48,
     "metadata": {},
     "output_type": "execute_result"
    }
   ],
   "source": [
    "rates_and_preds.take(5)"
   ]
  },
  {
   "cell_type": "code",
   "execution_count": 46,
   "metadata": {},
   "outputs": [],
   "source": [
    "MSE = rates_and_preds.map(lambda r: (r[1][0] - r[1][1]) ** 2).mean()"
   ]
  },
  {
   "cell_type": "code",
   "execution_count": 47,
   "metadata": {},
   "outputs": [
    {
     "data": {
      "text/plain": [
       "0.48345052742935346"
      ]
     },
     "execution_count": 47,
     "metadata": {},
     "output_type": "execute_result"
    }
   ],
   "source": [
    "MSE"
   ]
  },
  {
   "cell_type": "code",
   "execution_count": null,
   "metadata": {},
   "outputs": [],
   "source": []
  }
 ],
 "metadata": {
  "kernelspec": {
   "display_name": "Python 3",
   "language": "python",
   "name": "python3"
  },
  "language_info": {
   "codemirror_mode": {
    "name": "ipython",
    "version": 3
   },
   "file_extension": ".py",
   "mimetype": "text/x-python",
   "name": "python",
   "nbconvert_exporter": "python",
   "pygments_lexer": "ipython3",
   "version": "3.6.9"
  }
 },
 "nbformat": 4,
 "nbformat_minor": 2
}
